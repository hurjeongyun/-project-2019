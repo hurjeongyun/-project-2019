z =int(input(' atomic number : ')) #전자 배치를 원하는 원자번호 input받는다.

ele=[]
for i in range(1, z+1) :
    ele.append('e'+str(i)) #입력받은 원소의 번호가 z라고 하였을 때 1번째 원자부터 z번째 원자까지 숫자를 메긴다.

#전자가 들어가는 오비탈을 생성한 뒤 오비탈의 이름을 붙여준다. 오비탈에 들어갈 수 있는 전자의 개수를 한정지어준다.
    s1 = ele[0:2]
    s2 = ele[2:4]
    p2 = ele[4:10]
    s3 = ele[10:12]
    p3 = ele[12:18]
    s4 = ele[18:20]
    d3 = ele[20:30]
    p4 = ele[30:36]
    s5 = ele[36:38]
    d4 = ele[38:48]
    p5 = ele[48:54]
    s6 = ele[54:56]
    f4 = ele[56:70]
    d5 = ele[70:80]
    p6 = ele[80:86]
    s7 = ele[86:88]
    f5 = ele[88:102]
    d6 = ele[102:112]
    p7 = ele[112:118]

#전자 배치 규칙을 따르지 않는 원소들의 코드를 따로 추가하여 예외처리를 해준다.
if len(d3)==4 or len(d3)==9:
    s4.remove('e'+'19')
    d3.append('e'+'19')
if len(d4)==3 or len(d4)==4 or len(d4)==6 or len(d4)==7 or len(d4)==9 :
    s5.remove('e'+'38')
    d4.append('e'+'38')
if len(d4)==8 :
    s5.remove('e'+'38')
    s5.remove('e'+'37')
    d4.append('e'+'38')
    d4.append('e'+'37')
if len(f4)==1 or len(f4)==8 :
    f4.remove('e'+'57')
    d5.append('e'+'57')
if len(f4)==2 :
    f4.remove('e'+'57')
    f4.remove('e'+'58')
    d5.append('e'+'57')
    d5.append('e'+'58')
if len(d5)==8 or len(d5)==9 :
    s6.remove('e'+'56')
    d5.append('e'+'56')

#아직 발견되지않는, 존재하지않는 원소들의 범위를 지정해준다.
if len(ele)<=0 or len(ele)>=119 :
    print('다음과 같은 원자는 존재하지 않거나 아직 발견되지 않았습니다')

#약식이 아닌 기본적인 오비탈 표현 형태를 출력할 수 있도록한다.
else :
    print('1s'+'('+str(len(s1))+')', end=' ')
    print('2s'+'('+str(len(s2))+')', end=' ')
    print('2p'+'('+str(len(p2))+')', end=' ')
    print('3s'+'('+str(len(s3))+')', end=' ')
    print('3p'+'('+str(len(p3))+')', end=' ')
    print('4s'+'('+str(len(s4))+')', end=' ')
    print('3d'+'('+str(len(d3))+')', end=' ')
    print('4p'+'('+str(len(p4))+')', end=' ')
    print('5s'+'('+str(len(s5))+')', end=' ')
    print('4d'+'('+str(len(d4))+')', end=' ')
    print('5p'+'('+str(len(p5))+')', end=' ')
    print('6s'+'('+str(len(s6))+')', end=' ')
    print('4f'+'('+str(len(f4))+')', end=' ')
    print('5d'+'('+str(len(d5))+')', end=' ')
    print('6p'+'('+str(len(p6))+')', end=' ')
    print('7s'+'('+str(len(s7))+')', end=' ')
    print('5f'+'('+str(len(f5))+')', end=' ')
    print('6d'+'('+str(len(d6))+')', end=' ')
    print('7p'+'('+str(len(p7))+')')

#기본적인 형식이 아닌 약식으로 표현할 수 있는 코드를 작성해준다. 이때 원자번호가 큰 것을 먼저 걸러내어 (ex)36이상의 숫자를 입력하였을 때도 약식에서 [Ar(18)]을 이용하는 오류를 보완하였다.

if len(ele)> 86 :
    print('[Rn(86)]', end=' ')
    print('7s'+'('+str(len(s7))+')', end=' ')
    print('5f'+'('+str(len(f5))+')', end=' ')
    print('6d'+'('+str(len(d6))+')', end=' ')
    print('7p'+'('+str(len(p7))+')', end=' ') 

elif len(ele)> 54 :
     print('[Xe(54)]', end=' ')
     print('6s'+'('+str(len(s6))+')', end=' ')
     print('4f'+'('+str(len(f4))+')', end=' ')
     print('5d'+'('+str(len(d5))+')', end=' ')
     print('6p'+'('+str(len(p6))+')', end=' ')
     print('7s'+'('+str(len(s7))+')', end=' ')
     print('5f'+'('+str(len(f5))+')', end=' ')
     print('6d'+'('+str(len(d6))+')', end=' ')
     print('7p'+'('+str(len(p7))+')', end=' ')   
 
elif len(ele)> 36 :
    print('[Kr(36)]', end=' ')
    print('5s'+'('+str(len(s5))+')', end=' ')
    print('4d'+'('+str(len(d4))+')', end=' ')
    print('5p'+'('+str(len(p5))+')', end=' ')
    print('6s'+'('+str(len(s6))+')', end=' ')
    print('4f'+'('+str(len(f4))+')', end=' ')
    print('5d'+'('+str(len(d5))+')', end=' ')
    print('6p'+'('+str(len(p6))+')', end=' ')
    print('7s'+'('+str(len(s7))+')', end=' ')
    print('5f'+'('+str(len(f5))+')', end=' ')
    print('6d'+'('+str(len(d6))+')', end=' ')
    print('7p'+'('+str(len(p7))+')', end=' ')

elif len(ele)> 18 :
    print('[Ar(18)]', end= ' ')
    print('4s'+'('+str(len(s4))+')', end=' ')
    print('3d'+'('+str(len(d3))+')', end=' ')
    print('4p'+'('+str(len(p4))+')', end=' ')
    print('5s'+'('+str(len(s5))+')', end=' ')
    print('4d'+'('+str(len(d4))+')', end=' ')
    print('5p'+'('+str(len(p5))+')', end=' ')
    print('6s'+'('+str(len(s6))+')', end=' ')
    print('4f'+'('+str(len(f4))+')', end=' ')
    print('5d'+'('+str(len(d5))+')', end=' ')
    print('6p'+'('+str(len(p6))+')', end=' ')
    print('7s'+'('+str(len(s7))+')', end=' ')
    print('5f'+'('+str(len(f5))+')', end=' ')
    print('6d'+'('+str(len(d6))+')', end=' ')
    print('7p'+'('+str(len(p7))+')', end=' ')
